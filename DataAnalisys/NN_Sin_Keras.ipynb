{
 "cells": [
  {
   "cell_type": "code",
   "execution_count": null,
   "metadata": {},
   "outputs": [],
   "source": [
    "%matplotlib inline\n",
    "\n",
    "import matplotlib.pyplot as plt\n",
    "import numpy as np\n",
    "\n",
    "#values1=np.array([0,0])\n",
    "\n",
    "#num_of_points=200\n",
    "\n",
    "#for x in range(num_of_points + 1):\n",
    "#    b1=20*np.random.rand()\n",
    "#    #values[b1]=np.sin(b1)\n",
    "#    values1=np.vstack([values1, np.array([b1, (np.sin(b1)+1)/2])])\n",
    "\n",
    "#values1=np.delete(values1,(0), axis=0)\n",
    "#X, Y = values1[1:,0], values1[1:,1]\n",
    "#print(X)\n",
    "\n",
    "X = np.arange(0, np.pi*6, .1)\n",
    "Y = (np.sin(X)+1)/2 \n",
    "\n",
    "#plt.figure(figsize=(15,5))\n",
    "\n",
    "#plt.plot(values.keys(), values.values(), '.', color='blue')\n",
    "#plt.plot(X, Y, '.', color='red')\n",
    "\n",
    "#plt.xlabel('x values')\n",
    "#plt.ylabel('y values')\n",
    "#plt.title('sinus plot')\n",
    "#plt.grid(True)\n",
    "#plt.show()"
   ]
  },
  {
   "cell_type": "code",
   "execution_count": 92,
   "metadata": {},
   "outputs": [
    {
     "ename": "ValueError",
     "evalue": "Input 0 is incompatible with layer conv1d_5: expected ndim=3, found ndim=2",
     "traceback": [
      "\u001b[1;31m---------------------------------------------------------------------------\u001b[0m",
      "\u001b[1;31mValueError\u001b[0m                                Traceback (most recent call last)",
      "\u001b[1;32m<ipython-input-92-0f88a695ad5d>\u001b[0m in \u001b[0;36m<module>\u001b[1;34m()\u001b[0m\n\u001b[0;32m     16\u001b[0m \u001b[1;31m#model.add(Dense(120, activation='tanh', activity_regularizer=regularizers.l2(0.01)))\u001b[0m\u001b[1;33m\u001b[0m\u001b[1;33m\u001b[0m\u001b[0m\n\u001b[0;32m     17\u001b[0m \u001b[1;31m##model.add(BatchNormalization())\u001b[0m\u001b[1;33m\u001b[0m\u001b[1;33m\u001b[0m\u001b[0m\n\u001b[1;32m---> 18\u001b[1;33m \u001b[0mmodel\u001b[0m\u001b[1;33m.\u001b[0m\u001b[0madd\u001b[0m\u001b[1;33m(\u001b[0m\u001b[0mConv1D\u001b[0m\u001b[1;33m(\u001b[0m\u001b[1;36m12\u001b[0m\u001b[1;33m,\u001b[0m\u001b[1;36m2\u001b[0m\u001b[1;33m,\u001b[0m\u001b[0mactivation\u001b[0m\u001b[1;33m=\u001b[0m\u001b[1;34m'relu'\u001b[0m\u001b[1;33m,\u001b[0m\u001b[0minput_shape\u001b[0m\u001b[1;33m=\u001b[0m\u001b[0mX\u001b[0m\u001b[1;33m.\u001b[0m\u001b[0mshape\u001b[0m\u001b[1;33m)\u001b[0m\u001b[1;33m)\u001b[0m\u001b[1;33m\u001b[0m\u001b[0m\n\u001b[0m\u001b[0;32m     19\u001b[0m \u001b[0mmodel\u001b[0m\u001b[1;33m.\u001b[0m\u001b[0madd\u001b[0m\u001b[1;33m(\u001b[0m\u001b[0mDense\u001b[0m\u001b[1;33m(\u001b[0m\u001b[1;36m1\u001b[0m\u001b[1;33m,\u001b[0m \u001b[0mactivation\u001b[0m\u001b[1;33m=\u001b[0m\u001b[1;34m'elu'\u001b[0m\u001b[1;33m)\u001b[0m\u001b[1;33m)\u001b[0m\u001b[1;33m\u001b[0m\u001b[0m\n\u001b[0;32m     20\u001b[0m \u001b[1;33m\u001b[0m\u001b[0m\n",
      "\u001b[1;32m~\\Anaconda3\\lib\\site-packages\\keras\\engine\\sequential.py\u001b[0m in \u001b[0;36madd\u001b[1;34m(self, layer)\u001b[0m\n\u001b[0;32m    164\u001b[0m                     \u001b[1;31m# and create the node connecting the current layer\u001b[0m\u001b[1;33m\u001b[0m\u001b[1;33m\u001b[0m\u001b[0m\n\u001b[0;32m    165\u001b[0m                     \u001b[1;31m# to the input layer we just created.\u001b[0m\u001b[1;33m\u001b[0m\u001b[1;33m\u001b[0m\u001b[0m\n\u001b[1;32m--> 166\u001b[1;33m                     \u001b[0mlayer\u001b[0m\u001b[1;33m(\u001b[0m\u001b[0mx\u001b[0m\u001b[1;33m)\u001b[0m\u001b[1;33m\u001b[0m\u001b[0m\n\u001b[0m\u001b[0;32m    167\u001b[0m                     \u001b[0mset_inputs\u001b[0m \u001b[1;33m=\u001b[0m \u001b[1;32mTrue\u001b[0m\u001b[1;33m\u001b[0m\u001b[0m\n\u001b[0;32m    168\u001b[0m                 \u001b[1;32melse\u001b[0m\u001b[1;33m:\u001b[0m\u001b[1;33m\u001b[0m\u001b[0m\n",
      "\u001b[1;32m~\\Anaconda3\\lib\\site-packages\\keras\\engine\\base_layer.py\u001b[0m in \u001b[0;36m__call__\u001b[1;34m(self, inputs, **kwargs)\u001b[0m\n\u001b[0;32m    412\u001b[0m                 \u001b[1;31m# Raise exceptions in case the input is not compatible\u001b[0m\u001b[1;33m\u001b[0m\u001b[1;33m\u001b[0m\u001b[0m\n\u001b[0;32m    413\u001b[0m                 \u001b[1;31m# with the input_spec specified in the layer constructor.\u001b[0m\u001b[1;33m\u001b[0m\u001b[1;33m\u001b[0m\u001b[0m\n\u001b[1;32m--> 414\u001b[1;33m                 \u001b[0mself\u001b[0m\u001b[1;33m.\u001b[0m\u001b[0massert_input_compatibility\u001b[0m\u001b[1;33m(\u001b[0m\u001b[0minputs\u001b[0m\u001b[1;33m)\u001b[0m\u001b[1;33m\u001b[0m\u001b[0m\n\u001b[0m\u001b[0;32m    415\u001b[0m \u001b[1;33m\u001b[0m\u001b[0m\n\u001b[0;32m    416\u001b[0m                 \u001b[1;31m# Collect input shapes to build layer.\u001b[0m\u001b[1;33m\u001b[0m\u001b[1;33m\u001b[0m\u001b[0m\n",
      "\u001b[1;32m~\\Anaconda3\\lib\\site-packages\\keras\\engine\\base_layer.py\u001b[0m in \u001b[0;36massert_input_compatibility\u001b[1;34m(self, inputs)\u001b[0m\n\u001b[0;32m    309\u001b[0m                                      \u001b[0mself\u001b[0m\u001b[1;33m.\u001b[0m\u001b[0mname\u001b[0m \u001b[1;33m+\u001b[0m \u001b[1;34m': expected ndim='\u001b[0m \u001b[1;33m+\u001b[0m\u001b[1;33m\u001b[0m\u001b[0m\n\u001b[0;32m    310\u001b[0m                                      \u001b[0mstr\u001b[0m\u001b[1;33m(\u001b[0m\u001b[0mspec\u001b[0m\u001b[1;33m.\u001b[0m\u001b[0mndim\u001b[0m\u001b[1;33m)\u001b[0m \u001b[1;33m+\u001b[0m \u001b[1;34m', found ndim='\u001b[0m \u001b[1;33m+\u001b[0m\u001b[1;33m\u001b[0m\u001b[0m\n\u001b[1;32m--> 311\u001b[1;33m                                      str(K.ndim(x)))\n\u001b[0m\u001b[0;32m    312\u001b[0m             \u001b[1;32mif\u001b[0m \u001b[0mspec\u001b[0m\u001b[1;33m.\u001b[0m\u001b[0mmax_ndim\u001b[0m \u001b[1;32mis\u001b[0m \u001b[1;32mnot\u001b[0m \u001b[1;32mNone\u001b[0m\u001b[1;33m:\u001b[0m\u001b[1;33m\u001b[0m\u001b[0m\n\u001b[0;32m    313\u001b[0m                 \u001b[0mndim\u001b[0m \u001b[1;33m=\u001b[0m \u001b[0mK\u001b[0m\u001b[1;33m.\u001b[0m\u001b[0mndim\u001b[0m\u001b[1;33m(\u001b[0m\u001b[0mx\u001b[0m\u001b[1;33m)\u001b[0m\u001b[1;33m\u001b[0m\u001b[0m\n",
      "\u001b[1;31mValueError\u001b[0m: Input 0 is incompatible with layer conv1d_5: expected ndim=3, found ndim=2"
     ],
     "output_type": "error"
    }
   ],
   "source": [
    "from keras.models import Sequential\n",
    "from keras.layers import Dense, LSTM, Conv1D\n",
    "from keras.utils import plot_model\n",
    "#import numpy as np\n",
    "from sklearn.preprocessing import minmax_scale\n",
    "from keras import regularizers\n",
    "\n",
    "# задаем для воспроизводимости результатов\n",
    "np.random.seed(2)\n",
    "\n",
    "# создаем модели, добавляем слои один за другим\n",
    "model = Sequential()\n",
    "#model.add(Dense(120, activation='tanh', input_dim=1)) # входной слой требует задать input_dim\n",
    "#model.add(Dense(120, activation='tanh', activity_regularizer=regularizers.l2(0.01)))\n",
    "#model.add(Dense(120, activation='tanh', activity_regularizer=regularizers.l2(0.01)))\n",
    "#model.add(Dense(120, activation='tanh', activity_regularizer=regularizers.l2(0.01)))\n",
    "##model.add(BatchNormalization())\n",
    "model.add(Conv1D(12,2,activation='relu',input_shape=X.shape))\n",
    "model.add(Dense(1, activation='elu'))\n",
    "\n",
    "# компилируем модель, используем градиентный спуск adam\n",
    "#model.compile(loss=\"mse\", optimizer=\"adam\", metrics=['mse', 'mae', 'mape', 'cosine'])\n",
    "model.compile(loss=\"mse\", optimizer=\"adam\", metrics=['mse'])\n",
    "\n",
    "# обучаем нейронную сеть\n",
    "history = model.fit(X, Y, epochs = 200, batch_size=2, validation_split=0.0, verbose=0)\n",
    "\n",
    "#plot_model(model)\n",
    "\n",
    "# оцениваем результат\n",
    "scores = model.evaluate(X, Y)\n",
    "accuracy_percent = 1 - np.sqrt(scores[1])\n",
    "print(\"\\n%s: %.2f%% %.2f%%\" % (model.metrics_names[1], scores[1]*100, accuracy_percent))\n",
    "\n",
    "plt.plot(history.history['mean_squared_error'])\n",
    "#plt.plot(history.history['mean_absolute_error'])\n",
    "plt.show()\n",
    "\n",
    "#predictions1= model.predict(X)\n",
    "#predictions2= model.predict(Y)\n",
    "#print(len(predictions2))\n",
    "\n",
    "#predictions3=model.predict_on_batch(X)\n",
    "#predictions3=minmax_scale(predictions3)\n",
    "\n",
    "#predictions2=minmax_scale(predictions2)\n",
    "\n",
    "\n",
    "X_new = np.arange(0, np.pi*16, .1)\n",
    "pred_Y=model.predict(X_new)\n",
    "pred_Y=minmax_scale(pred_Y)\n",
    "\n",
    "#print(pred_Y)\n",
    "\n",
    "plt.figure(figsize=(15,5))\n",
    "plt.plot(X, Y, '.', color='blue')\n",
    "#plt.plot(X, predictions2, '.', color='red')\n",
    "plt.plot(X_new, pred_Y, '.', color='green')\n",
    "\n",
    "plt.xlabel('x values')\n",
    "plt.ylabel('y values')\n",
    "plt.title('sinus plot')\n",
    "plt.grid(True)\n",
    "plt.show()"
   ]
  },
  {
   "cell_type": "code",
   "execution_count": null,
   "metadata": {
    "slideshow": {
     "slide_type": "slide"
    }
   },
   "outputs": [],
   "source": []
  }
 ],
 "metadata": {
  "kernelspec": {
   "display_name": "Python 3",
   "language": "python",
   "name": "python3"
  },
  "language_info": {
   "codemirror_mode": {
    "name": "ipython",
    "version": 3
   },
   "file_extension": ".py",
   "mimetype": "text/x-python",
   "name": "python",
   "nbconvert_exporter": "python",
   "pygments_lexer": "ipython3",
   "version": "3.6.6"
  }
 },
 "nbformat": 4,
 "nbformat_minor": 2
}
