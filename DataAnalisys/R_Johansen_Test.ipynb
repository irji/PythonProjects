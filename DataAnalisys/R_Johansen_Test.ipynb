{
 "cells": [
  {
   "cell_type": "code",
   "execution_count": 2,
   "metadata": {},
   "outputs": [
    {
     "data": {
      "text/plain": [
       "\n",
       "###################### \n",
       "# Johansen-Procedure # \n",
       "###################### \n",
       "\n",
       "Test type: trace statistic , with linear trend \n",
       "\n",
       "Eigenvalues (lambda):\n",
       "[1] 0.338903321 0.330365610 0.001431603\n",
       "\n",
       "Values of teststatistic and critical values of test:\n",
       "\n",
       "            test 10pct  5pct  1pct\n",
       "r <= 2 |   14.32  6.50  8.18 11.65\n",
       "r <= 1 | 4023.76 15.66 17.95 23.52\n",
       "r = 0  | 8161.48 28.71 31.52 37.22\n",
       "\n",
       "Eigenvectors, normalised to first column:\n",
       "(These are the cointegration relations)\n",
       "\n",
       "          p.l2        q.l2     r.l2\n",
       "p.l2  1.000000  1.00000000 1.000000\n",
       "q.l2  1.791324 -0.52269002 1.941449\n",
       "r.l2 -1.717271  0.01589134 2.750312\n",
       "\n",
       "Weights W:\n",
       "(This is the loading matrix)\n",
       "\n",
       "          p.l2         q.l2          r.l2\n",
       "p.d -0.1381095 -0.771055116 -0.0003442470\n",
       "q.d -0.2615348  0.404161806 -0.0006863351\n",
       "r.d  0.2439540 -0.006556227 -0.0009068179\n"
      ]
     },
     "metadata": {},
     "output_type": "display_data"
    }
   ],
   "source": [
    "library(\"quantmod\")\n",
    "library(\"tseries\")\n",
    "library(\"urca\")\n",
    "\n",
    "set.seed(123)\n",
    "\n",
    "## Simulated cointegrated series\n",
    "\n",
    "z <- rep(0, 10000)\n",
    "for (i in 2:10000)\n",
    "\tz[i] <- z[i - 1] + rnorm(1)\n",
    "\n",
    "p <- q <- r <- rep(0, 10000)\n",
    "\n",
    "p <- 0.3 * z + rnorm(10000)\n",
    "q <- 0.6 * z + rnorm(10000)\n",
    "r <- 0.8 * z + rnorm(10000)\n",
    "\n",
    "jotest = ca.jo(data.frame(p, q, r), type = \"trace\", K = 2, ecdet = \"none\", spec = \"longrun\")\n",
    "summary(jotest)\n",
    "\n"
   ]
  },
  {
   "cell_type": "code",
   "execution_count": 10,
   "metadata": {},
   "outputs": [
    {
     "name": "stdout",
     "output_type": "stream",
     "text": [
      "\n",
      "###################### \n",
      "# Johansen-Procedure # \n",
      "###################### \n",
      "\n",
      "Test type: trace statistic , with linear trend \n",
      "\n",
      "Eigenvalues (lambda):\n",
      "[1] 2.953447e-04 7.523999e-05 4.722005e-07\n",
      "\n",
      "Values of teststatistic and critical values of test:\n",
      "\n",
      "          test 10pct  5pct  1pct\n",
      "r <= 2 |  0.03  6.50  8.18 11.65\n",
      "r <= 1 |  4.43 15.66 17.95 23.52\n",
      "r = 0  | 21.73 28.71 31.52 37.22\n",
      "\n",
      "Eigenvectors, normalised to first column:\n",
      "(These are the cointegration relations)\n",
      "\n",
      "           V48.l2     V28.l2    V12.l2\n",
      "V48.l2  1.0000000  1.0000000  1.000000\n",
      "V28.l2 -0.4755001 -0.7326379  3.758417\n",
      "V12.l2  8.0352178 -0.1751665 -1.491487\n",
      "\n",
      "Weights W:\n",
      "(This is the loading matrix)\n",
      "\n",
      "             V48.l2        V28.l2       V12.l2\n",
      "V48.d -1.879722e-05 -3.112733e-05 8.238157e-07\n",
      "V28.d -5.624973e-05  1.447794e-04 8.042441e-07\n",
      "V12.d -5.905660e-05 -9.757794e-06 1.531532e-07\n",
      "\n",
      "[1] \"-------------\"\n",
      "[1] \"Done\"\n"
     ]
    },
    {
     "data": {
      "image/png": "[encoded data removed]",
      "text/plain": [
       "plot without title"
      ]
     },
     "metadata": {},
     "output_type": "display_data"
    }
   ],
   "source": [
    "library(\"urca\")\n",
    "library(\"ggplot2\")\n",
    "library(\"gridExtra\")\n",
    "library(\"aTSA\")\n",
    "\n",
    "rm(list = ls())\n",
    "\n",
    "file <- read.csv(file = \"text.txt\", sep = \",\", header = FALSE)\n",
    "\n",
    "x1<-as.numeric(row.names(file))\n",
    "\n",
    "p <- as.vector(file[48])\n",
    "q <- as.vector(file[28])\n",
    "r <- as.vector(file[12])\n",
    "\n",
    "#print(p)\n",
    "\n",
    "jotest = ca.jo(data.frame(p, q, r), type = \"trace\", K = 2, ecdet = \"none\", spec = \"longrun\")\n",
    "sum1 <- summary(jotest)\n",
    "\n",
    "#print(sum1)\n",
    "#print(head(sum1))\n",
    "\n",
    "ss1<-as.list(attr(sum1,\"V\"))\n",
    "print(sum1)\n",
    "\n",
    "s = ss1[1] * p + ss1[2] * q + ss1[3] * r\n",
    "s2 = ss1[4] * p + ss1[5] * q + ss1[6] * r\n",
    "s3 = ss1[7] * p + ss1[8] * q + ss1[9] * r\n",
    "\n",
    "dataframe <- data.frame(x1, s)\n",
    "colnames(dataframe)<- c(\"x1\", \"y1\")\n",
    "\n",
    "dataframe2 <- data.frame(x1, s2)\n",
    "colnames(dataframe2) <- c(\"x2\", \"y2\")\n",
    "\n",
    "dataframe3 <- data.frame(x1, s3)\n",
    "colnames(dataframe3) <- c(\"x3\", \"y3\")\n",
    "\n",
    "p1 <- ggplot(data = dataframe, aes(x = x1, y = y1)) + geom_line()\n",
    "p2 <- ggplot(data = dataframe2, aes(x = x2, y = y2)) + geom_line()\n",
    "p3 <- ggplot(data = dataframe3, aes(x = x3, y = y3)) + geom_line()\n",
    "\n",
    "grid.arrange(p1, p2, p3, nrow = 2, ncol=2)\n",
    "\n",
    "print(\"-------------\")\n",
    "#dev.off()\n",
    "\n",
    "print(\"Done\")"
   ]
  },
  {
   "cell_type": "code",
   "execution_count": null,
   "metadata": {},
   "outputs": [],
   "source": []
  }
 ],
 "metadata": {
  "kernelspec": {
   "display_name": "R",
   "language": "R",
   "name": "ir"
  },
  "language_info": {
   "codemirror_mode": "r",
   "file_extension": ".r",
   "mimetype": "text/x-r-source",
   "name": "R",
   "pygments_lexer": "r",
   "version": "3.4.4"
  }
 },
 "nbformat": 4,
 "nbformat_minor": 2
}
