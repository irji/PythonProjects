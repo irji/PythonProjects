{
 "cells": [
  {
   "cell_type": "code",
   "execution_count": 1,
   "metadata": {},
   "outputs": [
    {
     "ename": "SyntaxError",
     "evalue": "invalid syntax (<ipython-input-1-61800fca4f22>, line 13)",
     "output_type": "error",
     "traceback": [
      "\u001b[1;36m  File \u001b[1;32m\"<ipython-input-1-61800fca4f22>\"\u001b[1;36m, line \u001b[1;32m13\u001b[0m\n\u001b[1;33m    traininginput <-  as.data.frame(runif(100, min=-4, max=4))\u001b[0m\n\u001b[1;37m                       ^\u001b[0m\n\u001b[1;31mSyntaxError\u001b[0m\u001b[1;31m:\u001b[0m invalid syntax\n"
     ]
    }
   ],
   "source": [
    "library('quantmod')\n",
    "#library('rusquant')\n",
    "library('forecast')\n",
    "\n",
    "#dev.off()\n",
    "#Очистка графиков\n",
    "\n",
    "rm(list = ls())\n",
    "# Очистка среды R от лишних переменных в памяти, если требуется\n",
    "\n",
    "#Генерим случайные равномерно распределенные числа\n",
    "#И сохраняем их в виде data frame\n",
    "traininginput <-  as.data.frame(runif(100, min=-4, max=4))\n",
    "trainingoutput <- cospi(traininginput)\n",
    "\n",
    "#Создаем единую структуру из входящих и исходящих значений\n",
    "trainingdata <- cbind(traininginput,trainingoutput)\n",
    "colnames(trainingdata) <- c('Input','Output')\n",
    "\n",
    "#Обучение нейронной сети\n",
    "#Используем 10 внутренних нейронов\n",
    "#net.cos <- neuralnet(Output~Input, trainingdata, hidden=10, threshold=0.01)\n",
    "#print(net.cos)\n",
    "\n",
    "#Графическое представление сети\n",
    "#plot(net.cos)\n",
    "\n",
    "#testdata <- as.data.frame(runif(600, min=-4, max=4))\n",
    "#net.results <- compute(net.cos, testdata) #Run them through the neural network\n",
    "\n",
    "#Свойства объекта net.results можно посмотреть так:\n",
    "#ls(net.results)\n",
    "\n",
    "#Результаты\n",
    "#print(net.results$net.result)\n",
    "\n",
    "#Обучение нейронной сети\n",
    "#p - число входящих нейронов, желательно чтобы совпадало с периодичностью\n",
    "#lambda - параметр трансорфмации Бокса-Кокса\n",
    "fit <- nnetar(trainingdata, lambda = 0, p = 40)\n",
    "\n",
    "#Прогнозирование с помощью нейронной сети\n",
    "#h - дальность прогноза (по умолчанию 10 если нет периодичности)\n",
    "fc <- forecast(fit, h = 40)\n",
    "\n",
    "#График прогноза\n",
    "plot.forecast(fc, include = 200, showgap = FALSE)\n",
    "\n",
    "#Детали \n",
    "print(summary(fc))\n",
    "\n",
    "\n",
    "#Результаты в виде таблицы, в которой видно теор. значение и вычисленное\n",
    "#cleanoutput <- cbind(testdata, cospi(testdata), as.data.frame(net.results$net.result))\n",
    "#colnames(cleanoutput) <- c('Input', 'Expected Output', 'Neural Net Output')\n",
    "#print(cleanoutput)\n",
    "\n",
    "#Ошибка нейронной сети\n",
    "#MSE.nn <- sum((net.results$net.result - cospi(testdata)) ^ 2) / nrow(testdata)\n",
    "#print('Error:')\n",
    "#print(MSE.nn)\n",
    "\n",
    "#Построение графика по вычисленным с помощью нейронной сети значениям\n",
    "#testdata$cos <- net.results$net.result\n",
    "#colnames(testdata) <- c('Angle in Radians', 'Cosine')\n",
    "#plot(testdata)"
   ]
  },
  {
   "cell_type": "code",
   "execution_count": null,
   "metadata": {},
   "outputs": [],
   "source": []
  }
 ],
 "metadata": {
  "kernelspec": {
   "display_name": "Python 3",
   "language": "python",
   "name": "python3"
  },
  "language_info": {
   "codemirror_mode": {
    "name": "ipython",
    "version": 3
   },
   "file_extension": ".py",
   "mimetype": "text/x-python",
   "name": "python",
   "nbconvert_exporter": "python",
   "pygments_lexer": "ipython3",
   "version": "3.6.6"
  }
 },
 "nbformat": 4,
 "nbformat_minor": 2
}
