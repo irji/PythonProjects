{
 "cells": [
  {
   "cell_type": "code",
   "execution_count": 12,
   "metadata": {},
   "outputs": [
    {
     "name": "stdout",
     "output_type": "stream",
     "text": [
      "[1] \"Error:\"\n",
      "[1] 0.09994971512\n"
     ]
    },
    {
     "name": "stderr",
     "output_type": "stream",
     "text": [
      "Don't know how to automatically pick scale for object of type data.frame. Defaulting to continuous.\n",
      "Don't know how to automatically pick scale for object of type data.frame. Defaulting to continuous.\n"
     ]
    },
    {
     "ename": "ERROR",
     "evalue": "Error: Columns `x`, `y` must be 1d atomic vectors or lists\n",
     "output_type": "error",
     "traceback": [
      "Error: Columns `x`, `y` must be 1d atomic vectors or lists\nTraceback:\n",
      "1. print(p1)",
      "2. print.ggplot(p1)",
      "3. ggplot_build(x)",
      "4. ggplot_build.ggplot(x)",
      "5. by_layer(function(l, d) l$compute_aesthetics(d, plot))",
      "6. f(l = layers[[i]], d = data[[i]])",
      "7. l$compute_aesthetics(d, plot)",
      "8. f(..., self = self)",
      "9. as_gg_data_frame(evaled)",
      "10. as.data.frame(tibble::as_tibble(x))",
      "11. tibble::as_tibble(x)",
      "12. as_tibble.list(x)",
      "13. list_to_tibble(x, validate)",
      "14. check_tibble(x)",
      "15. invalid_df(\"must be [a] 1d atomic vector(s) or [a] list(s)\", \n  .     x, !is_1d)",
      "16. stopc(pluralise_msg(\"Column(s) \", vars), \" \", pluralise(problem, \n  .     vars))",
      "17. abort(paste0(...))"
     ]
    }
   ],
   "source": [
    "# ВЫЧИСЛЕНИЕ КОСИНУСА УГЛА С ПОМОЩЬЮ НЕЙРОННОЙ СЕТИ\n",
    "\n",
    "#system.time(source('D:/Dropbox/R/MachineLearning/NeuralNetworks/Cosine.r'))\n",
    "#Вызов этого скрипта\n",
    "\n",
    "#install.packages('neuralnet')\n",
    "library('neuralnet')\n",
    "library(\"ggplot2\")\n",
    "library(\"gridExtra\")\n",
    "#Если ввести ?neuralnet можно узнать более подробную информацию\n",
    "\n",
    "#dev.off()\n",
    "#Очистка графиков\n",
    "\n",
    "rm(list = ls())\n",
    "# Очистка среды R от лишних переменных в памяти, если требуется\n",
    "\n",
    "#Генерим случайные равномерно распределенные числа\n",
    "#И сохраняем их в виде data frame\n",
    "traininginput <- as.data.frame(runif(200, min = -4, max = 4))\n",
    "trainingoutput <- cospi(traininginput)\n",
    "\n",
    "#Создаем единую структуру из входящих и исходящих значений\n",
    "trainingdata <- cbind(traininginput, trainingoutput)\n",
    "colnames(trainingdata) <- c('Input', 'Output')\n",
    "\n",
    "#Обучение нейронной сети\n",
    "#Используем 10 внутренних нейронов\n",
    "net.cos <- neuralnet(Output ~ Input, trainingdata, hidden = 10, threshold = 0.01)\n",
    "#print(net.cos)\n",
    "\n",
    "#Графическое представление сети\n",
    "plot(net.cos)\n",
    "\n",
    "testdata <- as.data.frame(runif(600, min = -4, max = 4))\n",
    "net.results <- compute(net.cos, testdata) #Run them through the neural network\n",
    "\n",
    "#Свойства объекта net.results можно посмотреть так:\n",
    "#ls(net.results)\n",
    "\n",
    "#Результаты\n",
    "#print(net.results$net.result)\n",
    "\n",
    "#Результаты в виде таблицы, в которой видно теор. значение и вычисленное\n",
    "cleanoutput <- cbind(testdata, cospi(testdata), as.data.frame(net.results$net.result))\n",
    "colnames(cleanoutput) <- c('Input', 'Expected Output', 'Neural Net Output')\n",
    "\n",
    "#print(cleanoutput)\n",
    "\n",
    "#Ошибка нейронной сети\n",
    "MSE.nn <- sum((net.results$net.result - cospi(testdata)) ^ 2) / nrow(testdata)\n",
    "print('Error:')\n",
    "print(MSE.nn)\n",
    "\n",
    "#Построение графика по вычисленным с помощью нейронной сети значениям\n",
    "testdata$cos <- net.results$net.result\n",
    "colnames(testdata) <- c('Angle in Radians', 'Cosine')\n",
    "plot(testdata)\n",
    "\n",
    "#dataframe <- data.frame(x1, s)\n",
    "#colnames(dataframe)<- c(\"x1\", \"y1\")\n",
    "\n",
    "#dataframe2 <- data.frame(x1, s2)\n",
    "#colnames(dataframe2) <- c(\"x2\", \"y2\")\n",
    "\n",
    "#dataframe3 <- data.frame(x1, s3)\n",
    "#colnames(dataframe3) <- c(\"x3\", \"y3\")\n",
    "\n",
    "#p1 <- ggplot(data = testdata, aes(x = x1, y = y1)) + geom_line()\n",
    "#p1 <- ggplot(data = testdata, aes(x = traininginput, y = trainingoutput)) + geom_line()\n",
    "#p2 <- ggplot(data = dataframe2, aes(x = x2, y = y2)) + geom_line()\n",
    "#p3 <- ggplot(data = dataframe3, aes(x = x3, y = y3)) + geom_line()\n",
    "\n",
    "#print(p1)\n",
    "\n",
    "#grid.arrange(p1, nrow = 2, ncol=2)"
   ]
  },
  {
   "cell_type": "code",
   "execution_count": null,
   "metadata": {},
   "outputs": [],
   "source": []
  }
 ],
 "metadata": {
  "kernelspec": {
   "display_name": "R",
   "language": "R",
   "name": "ir"
  },
  "language_info": {
   "codemirror_mode": "r",
   "file_extension": ".r",
   "mimetype": "text/x-r-source",
   "name": "R",
   "pygments_lexer": "r",
   "version": "3.4.4"
  }
 },
 "nbformat": 4,
 "nbformat_minor": 2
}
